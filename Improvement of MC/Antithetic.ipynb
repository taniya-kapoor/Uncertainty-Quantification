{
 "cells": [
  {
   "cell_type": "markdown",
   "metadata": {},
   "source": [
    "# Taniya Kapoor"
   ]
  },
  {
   "cell_type": "markdown",
   "metadata": {},
   "source": [
    "# UQ Project Part III - Antithetic Variates Part"
   ]
  },
  {
   "cell_type": "code",
   "execution_count": 1,
   "metadata": {},
   "outputs": [],
   "source": [
    "import numpy as np\n",
    "import math\n",
    "import matplotlib.pyplot as plt"
   ]
  },
  {
   "cell_type": "code",
   "execution_count": 2,
   "metadata": {},
   "outputs": [],
   "source": [
    "R = 1000\n",
    "\n",
    "br = 1.2               #Remanent magnetic flux density of the magnet (T)\n",
    "br_min = br - 0.05*br\n",
    "br_max = br + 0.05*br\n",
    "br = np.random.uniform(br_min, br_max, R)  \n",
    "br_prime = br_min + br_max - br\n",
    "#br=np.random.normal((br_min+br_max)/2, (br_max-br_min)**2/12, R)    \n",
    "\n",
    "e=0.5e-3             #air gap between the core and the yoke (m)\n",
    "e_min = e - 0.15*e\n",
    "e_max = e + 0.15*e\n",
    "e = np.random.uniform(e_min,e_max,R)\n",
    "e_prime = e_min + e_max - e\n",
    "#e = np.random.normal((e_min+e_max)/2, (e_max-e_min)**2/12, R)\n",
    "\n",
    "\n",
    "ep=5e-5  #Parasitic air gap (m)\n",
    "ep_min = ep - 0.4*ep\n",
    "ep_max = ep + 0.4*ep\n",
    "ep = np.random.uniform(ep_min,ep_max,R)\n",
    "ep_prime = ep_min + ep_max - ep\n",
    "#ep = np.random.normal((ep_min+ep_max)/2, (ep_max-ep_min)**2/12, R)\n",
    "\n",
    "\n",
    "haim=10e-3    #height of the magnet (m)\n",
    "haim_min = haim - 0.05*haim\n",
    "haim_max = haim + 0.05*haim\n",
    "haim = np.random.uniform(haim_min,haim_max,R)\n",
    "haim_prime = haim_min + haim_max - haim\n",
    "#haim = np.random.normal((haim_min+haim_max)/2, (haim_max-haim_min)**2/12, R)\n",
    "\n",
    "\n",
    "current=0.0652                                  #current in the coil\n",
    "current_min = current - 0.1*current\n",
    "current_max = current + 0.1*current\n",
    "current = np.random.uniform(current_min,current_max,R)  \n",
    "current_prime = current_min + current_max - current\n",
    "#current = np.random.normal((current_min+current_max)/2, (haim_max-haim_min)**2/12, R)\n",
    "\n"
   ]
  },
  {
   "cell_type": "code",
   "execution_count": 3,
   "metadata": {},
   "outputs": [],
   "source": [
    "rcul=8.8e-3                                        #radius of the iron core (m)\n",
    "rbob=17e-3                                        #external radius of the coil (m)\n",
    "rclo=20e-3                                        #external radius (m)\n",
    "raim=9.4e-3                                      #Radius of the magnet (m)\n",
    "hclo=6e-3                                       #height of base of the yoke (m)\n",
    "hent=6e-3                                      #height of the air gap e (m)\n",
    "hbob=9e-3                                       #height of the coil (m)\n",
    "hpm=5e-3                                        #height of the mobil plate (m)\n",
    "mur=3000                                        #relative permeability of the yoke\n",
    "n=3200                                        #number of turns\n",
    "#CONSTANTS\n",
    "#permeability of the air\n",
    "mu0=4*np.pi*1e-7\n",
    "Re=e/(mu0*2*np.pi*(rbob-e)*hent)                                  #reluctance of the airgap\n",
    "Rp=ep/(mu0*np.pi*rcul*rcul)+ep/(mu0*np.pi*(rclo*rclo-rbob*rbob))  #reluctance of the paraistic airgap\n",
    "Ra=haim/(mu0*np.pi*raim*raim)                                     #reluctance of the magnet\n",
    "ksia=br*haim/mu0                                                #magnetomotive force of the magnet\n",
    "#Not supplied\n",
    "#Calculation of the flux\n",
    "#flux flowing through the permanent magnet\n",
    "phia1=((Rp+Re)*ksia)/(Ra*Rp+Ra*Re+Re*Rp)\n",
    "#magnetic flux in the mobil plate\n",
    "phib1=-(Re*ksia)/(Ra*Rp+Ra*Re+Re*Rp)\n",
    "force1=np.abs((phib1*phib1)/(2*mu0*np.pi*rcul*rcul)+phib1*phib1/(2*mu0*np.pi*(rclo*rclo-rbob*rbob)))\n",
    "#Supplied by a current\n",
    "#Calculation of the flux\n",
    "#flux flowing through the permanent magnet\n",
    "phia2=((Rp+Re)*(ksia)-(Re*n*current))/((Ra*Rp)+(Ra*Re)+(Re*Rp))\n",
    "#magnetic flux in the mobil plate\n",
    "phib2=((Ra+Re)*n*current-Re*ksia)/(Ra*Rp+Ra*Re+Re*Rp)\n",
    "#calculation of the force\n",
    "force2=np.abs((phib2*phib2)/(2*mu0*np.pi*rcul*rcul)+phib2*phib2/(2*mu0*np.pi*(rclo*rclo-rbob*rbob)))"
   ]
  },
  {
   "cell_type": "code",
   "execution_count": 4,
   "metadata": {},
   "outputs": [],
   "source": [
    "mu0=4*np.pi*1e-7\n",
    "Re_prime=e_prime/(mu0*2*np.pi*(rbob-e)*hent)                                  #reluctance of the airgap\n",
    "Rp_prime=ep_prime/(mu0*np.pi*rcul*rcul)+ep_prime/(mu0*np.pi*(rclo*rclo-rbob*rbob))  #reluctance of the paraistic airgap\n",
    "Ra_prime=haim_prime/(mu0*np.pi*raim*raim)                                     #reluctance of the magnet\n",
    "ksia_prime=br_prime*haim_prime/mu0                                                #magnetomotive force of the magnet\n",
    "#Not supplied\n",
    "#Calculation of the flux\n",
    "#flux flowing through the permanent magnet\n",
    "phia1_prime=((Rp_prime+Re_prime)*ksia_prime)/(Ra_prime*Rp_prime+Ra_prime*Re_prime+Re_prime*Rp_prime)\n",
    "#magnetic flux in the mobil plate\n",
    "phib1_prime=-(Re_prime*ksia_prime)/(Ra_prime*Rp_prime+Ra_prime*Re_prime+Re_prime*Rp_prime)\n",
    "force1_prime=np.abs((phib1_prime*phib1_prime)/(2*mu0*np.pi*rcul*rcul)+phib1_prime*phib1_prime/(2*mu0*np.pi*(rclo*rclo-rbob*rbob)))\n",
    "#Supplied by a current\n",
    "#Calculation of the flux\n",
    "#flux flowing through the permanent magnet\n",
    "phia2_prime=((Rp_prime+Re_prime)*(ksia_prime)-(Re_prime*n*current_prime))/((Ra_prime*Rp_prime)+(Ra_prime*Re_prime)+(Re_prime*Rp_prime))\n",
    "#magnetic flux in the mobil plate\n",
    "phib2_prime=((Ra_prime+Re_prime)*n*current-Re_prime*ksia_prime)/(Ra_prime*Rp_prime+Ra_prime*Re_prime+Re_prime*Rp_prime)\n",
    "#calculation of the force\n",
    "force2_prime=np.abs((phib2_prime*phib2_prime)/(2*mu0*np.pi*rcul*rcul)+phib2_prime*phib2_prime/(2*mu0*np.pi*(rclo*rclo-rbob*rbob)))"
   ]
  },
  {
   "cell_type": "code",
   "execution_count": 6,
   "metadata": {},
   "outputs": [
    {
     "data": {
      "image/png": "[encoded data removed]",
      "text/plain": [
       "<Figure size 432x288 with 1 Axes>"
      ]
     },
     "metadata": {
      "needs_background": "light"
     },
     "output_type": "display_data"
    }
   ],
   "source": [
    "m1 = np.mean(force1)\n",
    "m1_prime = np.mean(force1_prime)\n",
    "m2 = np.mean(force2)\n",
    "m2_prime = np.mean(force2_prime)\n",
    "\n",
    "M1 = 0.5*(m1+m1_prime)\n",
    "M2 = 0.5*(m2+m2_prime)\n",
    "\n",
    "s1 = np.std(force1)\n",
    "s1_prime = np.std(force1_prime)\n",
    "s2 = np.std(force2)\n",
    "s2_prime = np.std(force2_prime)\n",
    "\n",
    "S1 = 0.5*(s1+s1_prime)\n",
    "S2 = 0.5*(s2+s2_prime)\n",
    "\n",
    "S1 = s1/np.sqrt(R)\n",
    "S2 = s2/np.sqrt(R)\n",
    "\n",
    "#plt.hist(force1,bins = 'auto')\n",
    "plt.hist(force2, bins = 'auto')\n",
    "#plt.show()\n",
    "#print(\"mean for Force1\",M1)\n",
    "#print(\"mean for Force2\",M2)\n",
    "#print(\"standard deviation for force1 by sqrt R\",S1)\n",
    "#print(\"standard deviation for force2 by sqrt R\",S2)\n",
    "\n",
    "plt.title(\"All 5 RV\")\n",
    "plt.xlabel('samples')\n",
    "plt.ylabel('freq.')\n",
    "plt.savefig(\"anti_all_force2.jpg\")\n"
   ]
  },
  {
   "cell_type": "code",
   "execution_count": null,
   "metadata": {},
   "outputs": [],
   "source": []
  }
 ],
 "metadata": {
  "kernelspec": {
   "display_name": "Python 3",
   "language": "python",
   "name": "python3"
  },
  "language_info": {
   "codemirror_mode": {
    "name": "ipython",
    "version": 3
   },
   "file_extension": ".py",
   "mimetype": "text/x-python",
   "name": "python",
   "nbconvert_exporter": "python",
   "pygments_lexer": "ipython3",
   "version": "3.7.4"
  }
 },
 "nbformat": 4,
 "nbformat_minor": 2
}
